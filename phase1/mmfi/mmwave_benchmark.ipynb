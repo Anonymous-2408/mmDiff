{
 "cells": [
  {
   "attachments": {},
   "cell_type": "markdown",
   "metadata": {},
   "source": [
    "### Data Loading"
   ]
  },
  {
   "cell_type": "code",
   "execution_count": 1,
   "metadata": {},
   "outputs": [],
   "source": [
    "import os\n",
    "import torch\n",
    "\n",
    "os.environ['CUDA_VISIBLE_DEVICES'] = '3'\n",
    "torch.cuda.set_device(0)\n",
    "\n",
    "import torch.nn as nn\n",
    "import yaml\n",
    "import glob\n",
    "import scipy.io as scio\n",
    "import random\n",
    "import numpy as np\n",
    "\n",
    "from mmfi_mmwave import make_dataset, make_dataloader\n",
    "from tqdm import tqdm\n",
    "from evaluate import error\n",
    "from mmwave_point_transformer import PointTransformerReg\n"
   ]
  },
  {
   "cell_type": "code",
   "execution_count": 2,
   "metadata": {},
   "outputs": [
    {
     "name": "stdout",
     "output_type": "stream",
     "text": [
      "mmwave\n",
      "S01 ['A02', 'A03', 'A04', 'A05', 'A13', 'A14', 'A17', 'A18', 'A19', 'A20', 'A21', 'A22', 'A23', 'A27']\n",
      "S02 ['A02', 'A03', 'A04', 'A05', 'A13', 'A14', 'A17', 'A18', 'A19', 'A20', 'A21', 'A22', 'A23', 'A27']\n",
      "/n\n",
      "mmwave\n",
      "S05 ['A02', 'A03', 'A04', 'A05', 'A13', 'A14', 'A17', 'A18', 'A19', 'A20', 'A21', 'A22', 'A23', 'A27']\n",
      "S10 ['A02', 'A03', 'A04', 'A05', 'A13', 'A14', 'A17', 'A18', 'A19', 'A20', 'A21', 'A22', 'A23', 'A27']\n",
      "S15 ['A02', 'A03', 'A04', 'A05', 'A13', 'A14', 'A17', 'A18', 'A19', 'A20', 'A21', 'A22', 'A23', 'A27']\n",
      "S20 ['A02', 'A03', 'A04', 'A05', 'A13', 'A14', 'A17', 'A18', 'A19', 'A20', 'A21', 'A22', 'A23', 'A27']\n",
      "S25 ['A02', 'A03', 'A04', 'A05', 'A13', 'A14', 'A17', 'A18', 'A19', 'A20', 'A21', 'A22', 'A23', 'A27']\n",
      "S30 ['A02', 'A03', 'A04', 'A05', 'A13', 'A14', 'A17', 'A18', 'A19', 'A20', 'A21', 'A22', 'A23', 'A27']\n",
      "S35 ['A02', 'A03', 'A04', 'A05', 'A13', 'A14', 'A17', 'A18', 'A19', 'A20', 'A21', 'A22', 'A23', 'A27']\n",
      "S40 ['A02', 'A03', 'A04', 'A05', 'A13', 'A14', 'A17', 'A18', 'A19', 'A20', 'A21', 'A22', 'A23', 'A27']\n"
     ]
    }
   ],
   "source": [
    "dataset_root = '../../../data/MMFi_Dataset/'\n",
    "# xian zai shi yong de shi Radar_Fused\n",
    "with open('config.yaml', 'r') as fd:\n",
    "    config = yaml.load(fd, Loader=yaml.FullLoader)\n",
    "\n",
    "train_dataset, val_dataset = make_dataset(dataset_root, config)\n",
    "\n",
    "# rng_generator = torch.manual_seed(config['init_rand_seed'])\n",
    "# train_loader = make_dataloader(train_dataset, is_training=True, generator=rng_generator, **config['loader'])\n",
    "# val_loader = make_dataloader(val_dataset, is_training=False, generator=rng_generator, **config['loader'])\n",
    "\n",
    "# # TODO: Code for training or validation\n",
    "# sample = train_dataset[0]\n",
    "# print(sample)"
   ]
  },
  {
   "cell_type": "code",
   "execution_count": 3,
   "metadata": {},
   "outputs": [],
   "source": [
    "def generate_limb_length(kpt_batch, normalize = False):\n",
    "\n",
    "    limb_list = []\n",
    "    limb_pairs = [[0, 1], [1, 2], [2, 3],\n",
    "                            [0, 4], [4, 5], [5, 6],\n",
    "                            [0, 7], [7, 8], [8, 9], [9,10],\n",
    "                            [8, 11], [11, 12], [12, 13],\n",
    "                            [8, 14], [14, 15], [15, 16]]\n",
    "    for i in range(len(limb_pairs)):\n",
    "        limb_src = limb_pairs[i][0]\n",
    "        limb_end = limb_pairs[i][1]\n",
    "        limb_vector = kpt_batch[:, limb_src, :] - kpt_batch[:, limb_end, :]\n",
    "        limb_list.append(limb_vector)\n",
    "    _limb_3d_mm = np.stack(limb_list, axis = 1)\n",
    "    _limb_3d_mm = np.sqrt(np.sum(np.power(_limb_3d_mm, 2), axis=-1))\n",
    "    return _limb_3d_mm\n",
    "\n",
    "\n"
   ]
  },
  {
   "cell_type": "code",
   "execution_count": 4,
   "metadata": {},
   "outputs": [],
   "source": [
    "def collate_fn_padd(batch):\n",
    "    '''\n",
    "    Padds batch of variable length\n",
    "\n",
    "    note: it converts things ToTensor manually here since the ToTensor transform\n",
    "    assume it takes in images rather than arbitrary tensors.\n",
    "    '''\n",
    " \n",
    "    # input_modalities = list(batch[0].keys())[-1]\n",
    "\n",
    "    scene = torch.tensor(np.array([int(t[\"scene\"][1:]) for t in batch]))\n",
    "    subject = torch.tensor(np.array([int(t[\"subject\"][1:]) for t in batch]))\n",
    "    action = torch.tensor(np.array([int(t[\"action\"][1:]) for t in batch]))\n",
    "    idx = torch.tensor(np.array([int(t[\"idx\"]) for t in batch]))\n",
    "    \n",
    "\n",
    "    \n",
    "    ## get kpts\n",
    "    kpts = []\n",
    "    [kpts.append(np.array(t['output'])) for t in batch]\n",
    "    kpts = torch.FloatTensor(np.array(kpts))\n",
    "    # kpts = kpts[:,:,:] - kpts[:,:1,:]\n",
    "\n",
    "    # ##  get rgbs\n",
    "    # rgbs = []\n",
    "    # for t in batch:\n",
    "    #     rgbs.append(np.array(t['input_infra1']))\n",
    "    # rgb = torch.FloatTensor(np.array(rgbs))\n",
    "\n",
    "\n",
    "    limb = generate_limb_length(kpts)\n",
    "    limb = torch.FloatTensor(limb)\n",
    "\n",
    "    lengths_list = []\n",
    "    batch_list = []\n",
    "    max_len = 150\n",
    "    for i in range(len(batch)):\n",
    "        b = batch[i][\"input_mmwave\"][:, [1, 2, 0, 3, 4]]\n",
    "        ## get sequence lengths\n",
    "        lengths_list.append(b.shape[0])\n",
    "        ## padd\n",
    "        appen_len = max_len - b.shape[0]\n",
    "        if appen_len > 0:\n",
    "            b = np.concatenate((b, np.zeros((appen_len, b.shape[1]), dtype=np.float32)), axis=0, dtype=np.float32)\n",
    "        else: print(\"error\")\n",
    "        batch_list.append(b) \n",
    "        \n",
    "    lengths = torch.tensor(lengths_list)\n",
    "    batch = torch.tensor(np.stack(batch_list, axis=0))\n",
    "    \n",
    "    # ## padd\n",
    "    # batch = [torch.Tensor(t[input_modalities]) for t in batch ]\n",
    "    # batch = torch.nn.utils.rnn.pad_sequence(batch)\n",
    "    # compute mask\n",
    "    # batch = batch.permute(1,0,2)\n",
    "    # if batch.shape[1] == 0:\n",
    "    #     batch = torch.zeros(batch.shape[0], 1, 5)\n",
    "    mask = (batch != 0)\n",
    "\n",
    "\n",
    "\n",
    "    return scene, subject, action, idx, batch, kpts, lengths, mask, limb"
   ]
  },
  {
   "cell_type": "code",
   "execution_count": 5,
   "metadata": {},
   "outputs": [],
   "source": [
    "rng_generator = torch.manual_seed(config['init_rand_seed'])\n",
    "train_loader = make_dataloader(train_dataset, is_training=False, generator=rng_generator, **config['loader'], collate_fn = collate_fn_padd)\n",
    "val_loader = make_dataloader(val_dataset, is_training=False, generator=rng_generator, **config['loader'], collate_fn = collate_fn_padd)\n",
    "# train_loader = make_dataloader(train_dataset, is_training=True, generator=rng_generator, **config['loader'])\n",
    "# val_loader = make_dataloader(val_dataset, is_training=False, generator=rng_generator, **config['loader'])"
   ]
  },
  {
   "attachments": {},
   "cell_type": "markdown",
   "metadata": {},
   "source": [
    "### creating a config"
   ]
  },
  {
   "cell_type": "code",
   "execution_count": 6,
   "metadata": {},
   "outputs": [],
   "source": [
    "from configparser import ConfigParser\n",
    "\n",
    "#Get the configparser object\n",
    "config_object = ConfigParser()\n",
    "\n",
    "#Assume we need 2 sections in the config file, let's call them USERINFO and SERVERCONFIG\n",
    "config_object[\"Lidar\"] = {\n",
    "    'num_point': 1024, \n",
    "    'nblocks': 5, \n",
    "    'nneighbor': 16, \n",
    "    'num_class': 17*3, \n",
    "    'input_dim': 3\n",
    "}\n",
    "config_object[\"mmwave\"] = {\n",
    "    'nblocks': 5, \n",
    "    'nneighbor': 16, \n",
    "    'num_class': 17*3, \n",
    "    'input_dim': 5\n",
    "}\n",
    "\n",
    "#Write the above sections to config.ini file\n",
    "with open('model_config.yaml', 'w') as conf:\n",
    "    config_object.write(conf)"
   ]
  },
  {
   "attachments": {},
   "cell_type": "markdown",
   "metadata": {},
   "source": [
    "### model"
   ]
  },
  {
   "cell_type": "code",
   "execution_count": 7,
   "metadata": {},
   "outputs": [
    {
     "data": {
      "text/plain": [
       "PointTransformerReg(\n",
       "  (backbone): Backbone(\n",
       "    (fc1): Sequential(\n",
       "      (0): Linear(in_features=5, out_features=32, bias=True)\n",
       "      (1): ReLU()\n",
       "      (2): Linear(in_features=32, out_features=32, bias=True)\n",
       "    )\n",
       "    (transformer1): TransformerBlock(\n",
       "      (fc1): Linear(in_features=32, out_features=128, bias=True)\n",
       "      (fc2): Linear(in_features=128, out_features=32, bias=True)\n",
       "      (fc_delta): Sequential(\n",
       "        (0): Linear(in_features=3, out_features=128, bias=True)\n",
       "        (1): ReLU()\n",
       "        (2): Linear(in_features=128, out_features=128, bias=True)\n",
       "      )\n",
       "      (fc_gamma): Sequential(\n",
       "        (0): Linear(in_features=128, out_features=128, bias=True)\n",
       "        (1): ReLU()\n",
       "        (2): Linear(in_features=128, out_features=128, bias=True)\n",
       "      )\n",
       "      (w_qs): Linear(in_features=128, out_features=128, bias=False)\n",
       "      (w_ks): Linear(in_features=128, out_features=128, bias=False)\n",
       "      (w_vs): Linear(in_features=128, out_features=128, bias=False)\n",
       "    )\n",
       "    (transition_downs): ModuleList(\n",
       "      (0): TransitionDown(\n",
       "        (conv1): Sequential(\n",
       "          (0): Conv1d(35, 64, kernel_size=(1,), stride=(1,))\n",
       "          (1): BatchNorm1d(64, eps=1e-05, momentum=0.1, affine=True, track_running_stats=True)\n",
       "          (2): ReLU()\n",
       "        )\n",
       "        (conv2): Sequential(\n",
       "          (0): Conv1d(64, 64, kernel_size=(1,), stride=(1,))\n",
       "          (1): BatchNorm1d(64, eps=1e-05, momentum=0.1, affine=True, track_running_stats=True)\n",
       "          (2): ReLU()\n",
       "        )\n",
       "      )\n",
       "      (1): TransitionDown(\n",
       "        (conv1): Sequential(\n",
       "          (0): Conv1d(67, 128, kernel_size=(1,), stride=(1,))\n",
       "          (1): BatchNorm1d(128, eps=1e-05, momentum=0.1, affine=True, track_running_stats=True)\n",
       "          (2): ReLU()\n",
       "        )\n",
       "        (conv2): Sequential(\n",
       "          (0): Conv1d(128, 128, kernel_size=(1,), stride=(1,))\n",
       "          (1): BatchNorm1d(128, eps=1e-05, momentum=0.1, affine=True, track_running_stats=True)\n",
       "          (2): ReLU()\n",
       "        )\n",
       "      )\n",
       "      (2): TransitionDown(\n",
       "        (conv1): Sequential(\n",
       "          (0): Conv1d(131, 256, kernel_size=(1,), stride=(1,))\n",
       "          (1): BatchNorm1d(256, eps=1e-05, momentum=0.1, affine=True, track_running_stats=True)\n",
       "          (2): ReLU()\n",
       "        )\n",
       "        (conv2): Sequential(\n",
       "          (0): Conv1d(256, 256, kernel_size=(1,), stride=(1,))\n",
       "          (1): BatchNorm1d(256, eps=1e-05, momentum=0.1, affine=True, track_running_stats=True)\n",
       "          (2): ReLU()\n",
       "        )\n",
       "      )\n",
       "      (3): TransitionDown(\n",
       "        (conv1): Sequential(\n",
       "          (0): Conv1d(259, 512, kernel_size=(1,), stride=(1,))\n",
       "          (1): BatchNorm1d(512, eps=1e-05, momentum=0.1, affine=True, track_running_stats=True)\n",
       "          (2): ReLU()\n",
       "        )\n",
       "        (conv2): Sequential(\n",
       "          (0): Conv1d(512, 512, kernel_size=(1,), stride=(1,))\n",
       "          (1): BatchNorm1d(512, eps=1e-05, momentum=0.1, affine=True, track_running_stats=True)\n",
       "          (2): ReLU()\n",
       "        )\n",
       "      )\n",
       "    )\n",
       "    (transformers): ModuleList(\n",
       "      (0): TransformerBlock(\n",
       "        (fc1): Linear(in_features=64, out_features=128, bias=True)\n",
       "        (fc2): Linear(in_features=128, out_features=64, bias=True)\n",
       "        (fc_delta): Sequential(\n",
       "          (0): Linear(in_features=3, out_features=128, bias=True)\n",
       "          (1): ReLU()\n",
       "          (2): Linear(in_features=128, out_features=128, bias=True)\n",
       "        )\n",
       "        (fc_gamma): Sequential(\n",
       "          (0): Linear(in_features=128, out_features=128, bias=True)\n",
       "          (1): ReLU()\n",
       "          (2): Linear(in_features=128, out_features=128, bias=True)\n",
       "        )\n",
       "        (w_qs): Linear(in_features=128, out_features=128, bias=False)\n",
       "        (w_ks): Linear(in_features=128, out_features=128, bias=False)\n",
       "        (w_vs): Linear(in_features=128, out_features=128, bias=False)\n",
       "      )\n",
       "      (1): TransformerBlock(\n",
       "        (fc1): Linear(in_features=128, out_features=128, bias=True)\n",
       "        (fc2): Linear(in_features=128, out_features=128, bias=True)\n",
       "        (fc_delta): Sequential(\n",
       "          (0): Linear(in_features=3, out_features=128, bias=True)\n",
       "          (1): ReLU()\n",
       "          (2): Linear(in_features=128, out_features=128, bias=True)\n",
       "        )\n",
       "        (fc_gamma): Sequential(\n",
       "          (0): Linear(in_features=128, out_features=128, bias=True)\n",
       "          (1): ReLU()\n",
       "          (2): Linear(in_features=128, out_features=128, bias=True)\n",
       "        )\n",
       "        (w_qs): Linear(in_features=128, out_features=128, bias=False)\n",
       "        (w_ks): Linear(in_features=128, out_features=128, bias=False)\n",
       "        (w_vs): Linear(in_features=128, out_features=128, bias=False)\n",
       "      )\n",
       "      (2): TransformerBlock(\n",
       "        (fc1): Linear(in_features=256, out_features=128, bias=True)\n",
       "        (fc2): Linear(in_features=128, out_features=256, bias=True)\n",
       "        (fc_delta): Sequential(\n",
       "          (0): Linear(in_features=3, out_features=128, bias=True)\n",
       "          (1): ReLU()\n",
       "          (2): Linear(in_features=128, out_features=128, bias=True)\n",
       "        )\n",
       "        (fc_gamma): Sequential(\n",
       "          (0): Linear(in_features=128, out_features=128, bias=True)\n",
       "          (1): ReLU()\n",
       "          (2): Linear(in_features=128, out_features=128, bias=True)\n",
       "        )\n",
       "        (w_qs): Linear(in_features=128, out_features=128, bias=False)\n",
       "        (w_ks): Linear(in_features=128, out_features=128, bias=False)\n",
       "        (w_vs): Linear(in_features=128, out_features=128, bias=False)\n",
       "      )\n",
       "      (3): TransformerBlock(\n",
       "        (fc1): Linear(in_features=512, out_features=128, bias=True)\n",
       "        (fc2): Linear(in_features=128, out_features=512, bias=True)\n",
       "        (fc_delta): Sequential(\n",
       "          (0): Linear(in_features=3, out_features=128, bias=True)\n",
       "          (1): ReLU()\n",
       "          (2): Linear(in_features=128, out_features=128, bias=True)\n",
       "        )\n",
       "        (fc_gamma): Sequential(\n",
       "          (0): Linear(in_features=128, out_features=128, bias=True)\n",
       "          (1): ReLU()\n",
       "          (2): Linear(in_features=128, out_features=128, bias=True)\n",
       "        )\n",
       "        (w_qs): Linear(in_features=128, out_features=128, bias=False)\n",
       "        (w_ks): Linear(in_features=128, out_features=128, bias=False)\n",
       "        (w_vs): Linear(in_features=128, out_features=128, bias=False)\n",
       "      )\n",
       "    )\n",
       "  )\n",
       "  (transformer): Transformer(\n",
       "    (layers): ModuleList(\n",
       "      (0): ModuleList(\n",
       "        (0): Residual(\n",
       "          (fn): PreNorm(\n",
       "            (norm): LayerNorm((512,), eps=1e-05, elementwise_affine=True)\n",
       "            (fn): Attention(\n",
       "              (to_k): Linear(in_features=512, out_features=512, bias=False)\n",
       "              (to_v): Linear(in_features=512, out_features=512, bias=False)\n",
       "              (to_q): Linear(in_features=512, out_features=512, bias=False)\n",
       "              (to_out): Sequential(\n",
       "                (0): Linear(in_features=512, out_features=512, bias=True)\n",
       "                (1): GELU(approximate='none')\n",
       "                (2): Dropout(p=0.0, inplace=False)\n",
       "              )\n",
       "            )\n",
       "          )\n",
       "        )\n",
       "        (1): Residual(\n",
       "          (fn): PreNorm(\n",
       "            (norm): LayerNorm((512,), eps=1e-05, elementwise_affine=True)\n",
       "            (fn): FeedForward(\n",
       "              (net): Sequential(\n",
       "                (0): Linear(in_features=512, out_features=256, bias=True)\n",
       "                (1): GELU(approximate='none')\n",
       "                (2): Dropout(p=0.0, inplace=False)\n",
       "                (3): Linear(in_features=256, out_features=512, bias=True)\n",
       "                (4): Dropout(p=0.0, inplace=False)\n",
       "              )\n",
       "            )\n",
       "          )\n",
       "        )\n",
       "      )\n",
       "      (1): ModuleList(\n",
       "        (0): Residual(\n",
       "          (fn): PreNorm(\n",
       "            (norm): LayerNorm((512,), eps=1e-05, elementwise_affine=True)\n",
       "            (fn): Attention(\n",
       "              (to_k): Linear(in_features=512, out_features=512, bias=False)\n",
       "              (to_v): Linear(in_features=512, out_features=512, bias=False)\n",
       "              (to_q): Linear(in_features=512, out_features=512, bias=False)\n",
       "              (to_out): Sequential(\n",
       "                (0): Linear(in_features=512, out_features=512, bias=True)\n",
       "                (1): GELU(approximate='none')\n",
       "                (2): Dropout(p=0.0, inplace=False)\n",
       "              )\n",
       "            )\n",
       "          )\n",
       "        )\n",
       "        (1): Residual(\n",
       "          (fn): PreNorm(\n",
       "            (norm): LayerNorm((512,), eps=1e-05, elementwise_affine=True)\n",
       "            (fn): FeedForward(\n",
       "              (net): Sequential(\n",
       "                (0): Linear(in_features=512, out_features=256, bias=True)\n",
       "                (1): GELU(approximate='none')\n",
       "                (2): Dropout(p=0.0, inplace=False)\n",
       "                (3): Linear(in_features=256, out_features=512, bias=True)\n",
       "                (4): Dropout(p=0.0, inplace=False)\n",
       "              )\n",
       "            )\n",
       "          )\n",
       "        )\n",
       "      )\n",
       "      (2): ModuleList(\n",
       "        (0): Residual(\n",
       "          (fn): PreNorm(\n",
       "            (norm): LayerNorm((512,), eps=1e-05, elementwise_affine=True)\n",
       "            (fn): Attention(\n",
       "              (to_k): Linear(in_features=512, out_features=512, bias=False)\n",
       "              (to_v): Linear(in_features=512, out_features=512, bias=False)\n",
       "              (to_q): Linear(in_features=512, out_features=512, bias=False)\n",
       "              (to_out): Sequential(\n",
       "                (0): Linear(in_features=512, out_features=512, bias=True)\n",
       "                (1): GELU(approximate='none')\n",
       "                (2): Dropout(p=0.0, inplace=False)\n",
       "              )\n",
       "            )\n",
       "          )\n",
       "        )\n",
       "        (1): Residual(\n",
       "          (fn): PreNorm(\n",
       "            (norm): LayerNorm((512,), eps=1e-05, elementwise_affine=True)\n",
       "            (fn): FeedForward(\n",
       "              (net): Sequential(\n",
       "                (0): Linear(in_features=512, out_features=256, bias=True)\n",
       "                (1): GELU(approximate='none')\n",
       "                (2): Dropout(p=0.0, inplace=False)\n",
       "                (3): Linear(in_features=256, out_features=512, bias=True)\n",
       "                (4): Dropout(p=0.0, inplace=False)\n",
       "              )\n",
       "            )\n",
       "          )\n",
       "        )\n",
       "      )\n",
       "      (3): ModuleList(\n",
       "        (0): Residual(\n",
       "          (fn): PreNorm(\n",
       "            (norm): LayerNorm((512,), eps=1e-05, elementwise_affine=True)\n",
       "            (fn): Attention(\n",
       "              (to_k): Linear(in_features=512, out_features=512, bias=False)\n",
       "              (to_v): Linear(in_features=512, out_features=512, bias=False)\n",
       "              (to_q): Linear(in_features=512, out_features=512, bias=False)\n",
       "              (to_out): Sequential(\n",
       "                (0): Linear(in_features=512, out_features=512, bias=True)\n",
       "                (1): GELU(approximate='none')\n",
       "                (2): Dropout(p=0.0, inplace=False)\n",
       "              )\n",
       "            )\n",
       "          )\n",
       "        )\n",
       "        (1): Residual(\n",
       "          (fn): PreNorm(\n",
       "            (norm): LayerNorm((512,), eps=1e-05, elementwise_affine=True)\n",
       "            (fn): FeedForward(\n",
       "              (net): Sequential(\n",
       "                (0): Linear(in_features=512, out_features=256, bias=True)\n",
       "                (1): GELU(approximate='none')\n",
       "                (2): Dropout(p=0.0, inplace=False)\n",
       "                (3): Linear(in_features=256, out_features=512, bias=True)\n",
       "                (4): Dropout(p=0.0, inplace=False)\n",
       "              )\n",
       "            )\n",
       "          )\n",
       "        )\n",
       "      )\n",
       "      (4): ModuleList(\n",
       "        (0): Residual(\n",
       "          (fn): PreNorm(\n",
       "            (norm): LayerNorm((512,), eps=1e-05, elementwise_affine=True)\n",
       "            (fn): Attention(\n",
       "              (to_k): Linear(in_features=512, out_features=512, bias=False)\n",
       "              (to_v): Linear(in_features=512, out_features=512, bias=False)\n",
       "              (to_q): Linear(in_features=512, out_features=512, bias=False)\n",
       "              (to_out): Sequential(\n",
       "                (0): Linear(in_features=512, out_features=512, bias=True)\n",
       "                (1): GELU(approximate='none')\n",
       "                (2): Dropout(p=0.0, inplace=False)\n",
       "              )\n",
       "            )\n",
       "          )\n",
       "        )\n",
       "        (1): Residual(\n",
       "          (fn): PreNorm(\n",
       "            (norm): LayerNorm((512,), eps=1e-05, elementwise_affine=True)\n",
       "            (fn): FeedForward(\n",
       "              (net): Sequential(\n",
       "                (0): Linear(in_features=512, out_features=256, bias=True)\n",
       "                (1): GELU(approximate='none')\n",
       "                (2): Dropout(p=0.0, inplace=False)\n",
       "                (3): Linear(in_features=256, out_features=512, bias=True)\n",
       "                (4): Dropout(p=0.0, inplace=False)\n",
       "              )\n",
       "            )\n",
       "          )\n",
       "        )\n",
       "      )\n",
       "    )\n",
       "  )\n",
       "  (fc2): Sequential(\n",
       "    (0): Linear(in_features=512, out_features=256, bias=True)\n",
       "    (1): Dropout(p=0.0, inplace=False)\n",
       "    (2): ReLU()\n",
       "    (3): Linear(in_features=256, out_features=64, bias=True)\n",
       "  )\n",
       "  (fc3): Sequential(\n",
       "    (0): ReLU()\n",
       "    (1): Linear(in_features=64, out_features=64, bias=True)\n",
       "    (2): Dropout(p=0.0, inplace=False)\n",
       "    (3): ReLU()\n",
       "    (4): Linear(in_features=64, out_features=3, bias=True)\n",
       "  )\n",
       ")"
      ]
     },
     "execution_count": 7,
     "metadata": {},
     "output_type": "execute_result"
    }
   ],
   "source": [
    "model = PointTransformerReg(\n",
    "    input_dim = 5,\n",
    "    nblocks = 5,\n",
    "    n_p = 17\n",
    ")\n",
    "device = torch.device(\"cuda\" if torch.cuda.is_available() else \"cpu\")\n",
    "model.to(device)\n"
   ]
  },
  {
   "attachments": {},
   "cell_type": "markdown",
   "metadata": {},
   "source": [
    "### training"
   ]
  },
  {
   "cell_type": "code",
   "execution_count": 8,
   "metadata": {},
   "outputs": [],
   "source": [
    "def test(model, tensor_loader, criterion1, criterion2, device, save_flag=None):\n",
    "    model.eval()\n",
    "    test_mpjpe = 0\n",
    "    test_pampjpe = 0\n",
    "    test_mse = 0\n",
    "    test_limb = 0\n",
    "\n",
    "    # empty list for data saving\n",
    "    joint_gt_array_train = []\n",
    "    joint_pred_array_train = []\n",
    "    radar_feat_array_train = []\n",
    "    radar_input_array_train = [] #  to be implement\n",
    "\n",
    "    scene_array_train = []\n",
    "    subject_array_train = []\n",
    "    action_array_train = []\n",
    "    idx_array_train = []\n",
    "\n",
    "\n",
    "    for data in tqdm(tensor_loader):\n",
    "        scene, subject, action, idx, inputs, labels, _, _, limb_gt = data\n",
    "        inputs[:,:,:3] = inputs[:,:,:3] - labels[:,[0],:]\n",
    "        labels = labels - labels[:,[0],:]\n",
    "\n",
    "        inputs = inputs.to(device)\n",
    "        labels.to(device)\n",
    "        # limb_gt = limb_gt.to(device)\n",
    "        labels = labels.type(torch.FloatTensor)\n",
    "        outputs, feat, limb_pr = model(inputs)\n",
    "        outputs = outputs.type(torch.FloatTensor)\n",
    "        outputs.to(device)\n",
    "        test_mse += criterion1(outputs,labels).item() * inputs.size(0)\n",
    "        # test_limb += (limb_pr - limb_gt).abs().sum(dim=-1).mean(dim=0).item() * inputs.size(0)\n",
    "        \n",
    "\n",
    "        outputs = outputs.detach().numpy()\n",
    "        labels = labels.detach().numpy()\n",
    "\n",
    "\n",
    "        #append array\n",
    "        if save_flag == \"test\" or save_flag == \"train\":\n",
    "            joint_gt_array_train.append(labels)\n",
    "            joint_pred_array_train.append(outputs)\n",
    "            radar_feat_array_train.append(feat.cpu().detach().numpy())\n",
    "            radar_input_array_train.append(inputs.cpu().detach().numpy())\n",
    "            scene_array_train.append(scene.cpu().detach().numpy())\n",
    "            subject_array_train.append(subject.cpu().detach().numpy())\n",
    "            action_array_train.append(action.cpu().detach().numpy())\n",
    "            idx_array_train.append(idx.cpu().detach().numpy())\n",
    "\n",
    "        \n",
    "        mpjpe, pampjpe = criterion2(outputs,labels)\n",
    "        test_mpjpe += mpjpe.item() * inputs.size(0)\n",
    "        test_pampjpe += pampjpe.item() * inputs.size(0)\n",
    "    test_mpjpe = test_mpjpe/len(tensor_loader.dataset)\n",
    "    test_pampjpe = test_pampjpe/len(tensor_loader.dataset)\n",
    "    test_mse = test_mse/len(tensor_loader.dataset)\n",
    "    # test_limb = test_limb/len(tensor_loader.dataset)\n",
    "    print(\"mse: {:.8f}, mpjpe: {:.8f}, pampjpe: {:.8f}\".format(float(test_mse), float(test_mpjpe),float(test_pampjpe)))\n",
    "\n",
    "    # save\n",
    "    if save_flag == \"test\":\n",
    "        print(\"Saving Test.\")\n",
    "        # np transform and save to npz\n",
    "        with open(os.path.join(\"data_saver_new\", \"joint_gt_array_test.npy\"), \"wb\") as f:\n",
    "            nparray = np.concatenate(joint_gt_array_train)\n",
    "            print(nparray.shape)\n",
    "            np.save(f, nparray)\n",
    "        # np transform and save to npz\n",
    "        with open(os.path.join(\"data_saver_new\", \"joint_pred_array_test.npy\"), \"wb\") as f:\n",
    "            nparray = np.concatenate(joint_pred_array_train)\n",
    "            print(nparray.shape)\n",
    "            np.save(f, nparray)\n",
    "        # np transform and save to npz\n",
    "        with open(os.path.join(\"data_saver_new\", \"radar_feat_array_test.npy\"), \"wb\") as f:\n",
    "            nparray = np.concatenate(radar_feat_array_train)\n",
    "            print(nparray.shape)\n",
    "            np.save(f, nparray)\n",
    "\n",
    "        # np transform and save to npz\n",
    "        with open(os.path.join(\"data_saver_new\", \"radar_array_input_test.npy\"), \"wb\") as f:\n",
    "            nparray = np.concatenate(radar_input_array_train)\n",
    "            print(nparray.shape)\n",
    "            np.save(f, nparray)\n",
    "            \n",
    "        # np transform and save to npz\n",
    "        with open(os.path.join(\"data_saver_new\", \"scene_array_test.npy\"), \"wb\") as f:\n",
    "            nparray = np.concatenate(scene_array_train)\n",
    "            print(nparray.shape)\n",
    "            np.save(f, nparray)\n",
    "        # np transform and save to npz\n",
    "        with open(os.path.join(\"data_saver_new\", \"subject_array_test.npy\"), \"wb\") as f:\n",
    "            nparray = np.concatenate(subject_array_train)\n",
    "            print(nparray.shape)\n",
    "            np.save(f, nparray)\n",
    "        # np transform and save to npz\n",
    "        with open(os.path.join(\"data_saver_new\", \"action_array_test.npy\"), \"wb\") as f:\n",
    "            nparray = np.concatenate(action_array_train)\n",
    "            print(nparray.shape)\n",
    "            np.save(f, nparray)\n",
    "        # np transform and save to npz\n",
    "        with open(os.path.join(\"data_saver_new\", \"idx_array_test.npy\"), \"wb\") as f:\n",
    "            nparray = np.concatenate(idx_array_train)\n",
    "            print(nparray.shape)\n",
    "            np.save(f, nparray)\n",
    "\n",
    "    if save_flag == \"train\":\n",
    "        print(\"Saving Test.\")\n",
    "        # np transform and save to npz\n",
    "        with open(os.path.join(\"data_saver\", \"joint_gt_array_train.npy\"), \"wb\") as f:\n",
    "            nparray = np.concatenate(joint_gt_array_train)\n",
    "            print(nparray.shape)\n",
    "            np.save(f, nparray)\n",
    "        # np transform and save to npz\n",
    "        with open(os.path.join(\"data_saver\", \"joint_pred_array_train.npy\"), \"wb\") as f:\n",
    "            nparray = np.concatenate(joint_pred_array_train)\n",
    "            print(nparray.shape)\n",
    "            np.save(f, nparray)\n",
    "        # np transform and save to npz\n",
    "        with open(os.path.join(\"data_saver\", \"radar_feat_array_train.npy\"), \"wb\") as f:\n",
    "            nparray = np.concatenate(radar_feat_array_train)\n",
    "            print(nparray.shape)\n",
    "            np.save(f, nparray)\n",
    "\n",
    "        # np transform and save to npz\n",
    "        with open(os.path.join(\"data_saver\", \"scene_array_train.npy\"), \"wb\") as f:\n",
    "            nparray = np.concatenate(scene_array_train)\n",
    "            print(nparray.shape)\n",
    "            np.save(f, nparray)\n",
    "        # np transform and save to npz\n",
    "        with open(os.path.join(\"data_saver\", \"subject_array_train.npy\"), \"wb\") as f:\n",
    "            nparray = np.concatenate(subject_array_train)\n",
    "            print(nparray.shape)\n",
    "            np.save(f, nparray)\n",
    "        # np transform and save to npz\n",
    "        with open(os.path.join(\"data_saver\", \"action_array_train.npy\"), \"wb\") as f:\n",
    "            nparray = np.concatenate(action_array_train)\n",
    "            print(nparray.shape)\n",
    "            np.save(f, nparray)\n",
    "        # np transform and save to npz\n",
    "        with open(os.path.join(\"data_saver\", \"idx_array_train.npy\"), \"wb\") as f:\n",
    "            nparray = np.concatenate(idx_array_train)\n",
    "            print(nparray.shape)\n",
    "            np.save(f, nparray)\n",
    "    \n",
    "    \n",
    "    return test_mpjpe"
   ]
  },
  {
   "cell_type": "code",
   "execution_count": 13,
   "metadata": {},
   "outputs": [
    {
     "name": "stderr",
     "output_type": "stream",
     "text": [
      "100%|██████████| 1040/1040 [00:31<00:00, 32.78it/s]\n"
     ]
    },
    {
     "name": "stdout",
     "output_type": "stream",
     "text": [
      "mse: 0.01539020, mpjpe: 0.16336294, pampjpe: 0.10876031\n",
      "Saving Test.\n"
     ]
    },
    {
     "ename": "FileNotFoundError",
     "evalue": "[Errno 2] No such file or directory: 'data_saver_new/joint_gt_array_test.npy'",
     "output_type": "error",
     "traceback": [
      "\u001b[0;31m---------------------------------------------------------------------------\u001b[0m",
      "\u001b[0;31mFileNotFoundError\u001b[0m                         Traceback (most recent call last)",
      "Cell \u001b[0;32mIn[13], line 7\u001b[0m\n\u001b[1;32m      5\u001b[0m \u001b[38;5;66;03m# model.load_state_dict(torch.load('./pre-train_weights/mmwave_action(2).pt'))\u001b[39;00m\n\u001b[1;32m      6\u001b[0m model\u001b[38;5;241m.\u001b[39mto(device)\n\u001b[0;32m----> 7\u001b[0m \u001b[43mtest\u001b[49m\u001b[43m(\u001b[49m\n\u001b[1;32m      8\u001b[0m \u001b[43m    \u001b[49m\u001b[43mmodel\u001b[49m\u001b[38;5;241;43m=\u001b[39;49m\u001b[43mmodel\u001b[49m\u001b[43m,\u001b[49m\n\u001b[1;32m      9\u001b[0m \u001b[43m    \u001b[49m\u001b[43mtensor_loader\u001b[49m\u001b[38;5;241;43m=\u001b[39;49m\u001b[43m \u001b[49m\u001b[43mval_loader\u001b[49m\u001b[43m,\u001b[49m\n\u001b[1;32m     10\u001b[0m \u001b[43m    \u001b[49m\u001b[43mcriterion1\u001b[49m\u001b[43m \u001b[49m\u001b[38;5;241;43m=\u001b[39;49m\u001b[43m \u001b[49m\u001b[43mtrain_criterion\u001b[49m\u001b[43m,\u001b[49m\n\u001b[1;32m     11\u001b[0m \u001b[43m    \u001b[49m\u001b[43mcriterion2\u001b[49m\u001b[43m \u001b[49m\u001b[38;5;241;43m=\u001b[39;49m\u001b[43m \u001b[49m\u001b[43mtest_criterion\u001b[49m\u001b[43m,\u001b[49m\n\u001b[1;32m     12\u001b[0m \u001b[43m    \u001b[49m\u001b[43mdevice\u001b[49m\u001b[38;5;241;43m=\u001b[39;49m\u001b[43mdevice\u001b[49m\u001b[43m,\u001b[49m\n\u001b[1;32m     13\u001b[0m \u001b[43m    \u001b[49m\u001b[43msave_flag\u001b[49m\u001b[38;5;241;43m=\u001b[39;49m\u001b[38;5;124;43m\"\u001b[39;49m\u001b[38;5;124;43mtest\u001b[39;49m\u001b[38;5;124;43m\"\u001b[39;49m\n\u001b[1;32m     14\u001b[0m \u001b[43m        \u001b[49m\u001b[43m)\u001b[49m\n",
      "Cell \u001b[0;32mIn[8], line 65\u001b[0m, in \u001b[0;36mtest\u001b[0;34m(model, tensor_loader, criterion1, criterion2, device, save_flag)\u001b[0m\n\u001b[1;32m     63\u001b[0m \u001b[38;5;28mprint\u001b[39m(\u001b[38;5;124m\"\u001b[39m\u001b[38;5;124mSaving Test.\u001b[39m\u001b[38;5;124m\"\u001b[39m)\n\u001b[1;32m     64\u001b[0m \u001b[38;5;66;03m# np transform and save to npz\u001b[39;00m\n\u001b[0;32m---> 65\u001b[0m \u001b[38;5;28;01mwith\u001b[39;00m \u001b[38;5;28;43mopen\u001b[39;49m\u001b[43m(\u001b[49m\u001b[43mos\u001b[49m\u001b[38;5;241;43m.\u001b[39;49m\u001b[43mpath\u001b[49m\u001b[38;5;241;43m.\u001b[39;49m\u001b[43mjoin\u001b[49m\u001b[43m(\u001b[49m\u001b[38;5;124;43m\"\u001b[39;49m\u001b[38;5;124;43mdata_saver_new\u001b[39;49m\u001b[38;5;124;43m\"\u001b[39;49m\u001b[43m,\u001b[49m\u001b[43m \u001b[49m\u001b[38;5;124;43m\"\u001b[39;49m\u001b[38;5;124;43mjoint_gt_array_test.npy\u001b[39;49m\u001b[38;5;124;43m\"\u001b[39;49m\u001b[43m)\u001b[49m\u001b[43m,\u001b[49m\u001b[43m \u001b[49m\u001b[38;5;124;43m\"\u001b[39;49m\u001b[38;5;124;43mwb\u001b[39;49m\u001b[38;5;124;43m\"\u001b[39;49m\u001b[43m)\u001b[49m \u001b[38;5;28;01mas\u001b[39;00m f:\n\u001b[1;32m     66\u001b[0m     nparray \u001b[38;5;241m=\u001b[39m np\u001b[38;5;241m.\u001b[39mconcatenate(joint_gt_array_train)\n\u001b[1;32m     67\u001b[0m     \u001b[38;5;28mprint\u001b[39m(nparray\u001b[38;5;241m.\u001b[39mshape)\n",
      "File \u001b[0;32m~/.conda/envs/p4trans/lib/python3.9/site-packages/IPython/core/interactiveshell.py:284\u001b[0m, in \u001b[0;36m_modified_open\u001b[0;34m(file, *args, **kwargs)\u001b[0m\n\u001b[1;32m    277\u001b[0m \u001b[38;5;28;01mif\u001b[39;00m file \u001b[38;5;129;01min\u001b[39;00m {\u001b[38;5;241m0\u001b[39m, \u001b[38;5;241m1\u001b[39m, \u001b[38;5;241m2\u001b[39m}:\n\u001b[1;32m    278\u001b[0m     \u001b[38;5;28;01mraise\u001b[39;00m \u001b[38;5;167;01mValueError\u001b[39;00m(\n\u001b[1;32m    279\u001b[0m         \u001b[38;5;124mf\u001b[39m\u001b[38;5;124m\"\u001b[39m\u001b[38;5;124mIPython won\u001b[39m\u001b[38;5;124m'\u001b[39m\u001b[38;5;124mt let you open fd=\u001b[39m\u001b[38;5;132;01m{\u001b[39;00mfile\u001b[38;5;132;01m}\u001b[39;00m\u001b[38;5;124m by default \u001b[39m\u001b[38;5;124m\"\u001b[39m\n\u001b[1;32m    280\u001b[0m         \u001b[38;5;124m\"\u001b[39m\u001b[38;5;124mas it is likely to crash IPython. If you know what you are doing, \u001b[39m\u001b[38;5;124m\"\u001b[39m\n\u001b[1;32m    281\u001b[0m         \u001b[38;5;124m\"\u001b[39m\u001b[38;5;124myou can use builtins\u001b[39m\u001b[38;5;124m'\u001b[39m\u001b[38;5;124m open.\u001b[39m\u001b[38;5;124m\"\u001b[39m\n\u001b[1;32m    282\u001b[0m     )\n\u001b[0;32m--> 284\u001b[0m \u001b[38;5;28;01mreturn\u001b[39;00m \u001b[43mio_open\u001b[49m\u001b[43m(\u001b[49m\u001b[43mfile\u001b[49m\u001b[43m,\u001b[49m\u001b[43m \u001b[49m\u001b[38;5;241;43m*\u001b[39;49m\u001b[43margs\u001b[49m\u001b[43m,\u001b[49m\u001b[43m \u001b[49m\u001b[38;5;241;43m*\u001b[39;49m\u001b[38;5;241;43m*\u001b[39;49m\u001b[43mkwargs\u001b[49m\u001b[43m)\u001b[49m\n",
      "\u001b[0;31mFileNotFoundError\u001b[0m: [Errno 2] No such file or directory: 'data_saver_new/joint_gt_array_test.npy'"
     ]
    }
   ],
   "source": [
    "train_criterion = nn.MSELoss()\n",
    "test_criterion = error\n",
    "device = torch.device(\"cuda\" if torch.cuda.is_available() else \"cpu\")\n",
    "model.load_state_dict(torch.load('./pre-train_weights/mmwave_scene(2).pt'))\n",
    "# model.load_state_dict(torch.load('./pre-train_weights/mmwave_action(2).pt'))\n",
    "model.to(device)\n",
    "test(\n",
    "    model=model,\n",
    "    tensor_loader= val_loader,\n",
    "    criterion1 = train_criterion,\n",
    "    criterion2 = test_criterion,\n",
    "    device=device,\n",
    "    save_flag=\"\"\n",
    "        )"
   ]
  },
  {
   "cell_type": "code",
   "execution_count": 10,
   "metadata": {},
   "outputs": [],
   "source": [
    "def train(model, train_loader, test_loader, num_epochs, learning_rate, train_criterion, test_criterion, device):\n",
    "    optimizer = torch.optim.AdamW(model.parameters(), lr = learning_rate)\n",
    "    # optimizer = torch.optim.SGD(model.parameters(), lr = learning_rate)\n",
    "    # scheduler = torch.optim.lr_scheduler.MultiStepLR(optimizer,milestones=[20,40],gamma=0.1)\n",
    "    # parameter_dir = './pre-train_weights/mmwave_p2_cross_subject(2).pt'\n",
    "    # parameter_dir = './pre-train_weights/mmwave_action(2).pt'\n",
    "    parameter_dir = './pre-train_weights/mmwave_scene(2).pt'\n",
    "    best_test_mpjpe = 100\n",
    "    for epoch in range(num_epochs):\n",
    "        model.train()\n",
    "        epoch_loss = 0\n",
    "        limb_loss_train = 0\n",
    "        epoch_accuracy = 0\n",
    "        for data in tqdm(train_loader):\n",
    "            scene, subject, action, idx, inputs, labels, _, _, limb_gt = data\n",
    "            inputs[:,:,:3] = inputs[:,:,:3] - labels[:,[0],:]\n",
    "            labels = labels - labels[:,[0],:]\n",
    "\n",
    "            inputs = inputs.to(device)\n",
    "            labels = labels.to(device)\n",
    "            labels = labels.type(torch.FloatTensor)\n",
    "\n",
    "            \n",
    "\n",
    "            # limb_gt = limb_gt.to(device)\n",
    "            \n",
    "            optimizer.zero_grad()\n",
    "            outputs, _, _ = model(inputs)\n",
    "            outputs = outputs.to(device)\n",
    "            outputs = outputs.type(torch.FloatTensor)\n",
    "            loss = train_criterion(outputs,labels)\n",
    "            # limb_loss = (limb_pr - limb_gt).abs().sum(dim=-1).mean(dim=0)\n",
    "\n",
    "            loss = loss * 1 #+ limb_loss * 0\n",
    "            loss.backward()\n",
    "            # print(length)\n",
    "            # print(\"loss is \", loss.item())\n",
    "            optimizer.step()\n",
    "            \n",
    "            epoch_loss += loss.item() * inputs.size(0)\n",
    "            # limb_loss_train += limb_loss.item() * inputs.size(0)\n",
    "            # print(\"epoch loss is \", epoch_loss)\n",
    "        epoch_loss = epoch_loss/len(train_loader.dataset)\n",
    "        # limb_loss_train = limb_loss_train/len(train_loader.dataset)\n",
    "        print('Epoch: {}, Loss: {:.8f}'.format(epoch, epoch_loss))\n",
    "        # print('Epoch: {}, Train Limb Loss: {:.8f}'.format(epoch, limb_loss_train))\n",
    "        if (epoch+1) % 1 == 0:\n",
    "            test_mpjpe = test(\n",
    "                model=model,\n",
    "                tensor_loader=test_loader,\n",
    "                criterion1 = train_criterion,\n",
    "                criterion2 = test_criterion,\n",
    "                device= device\n",
    "            )\n",
    "            if test_mpjpe <= best_test_mpjpe:\n",
    "                print(f\"best test mpjpe is:{test_mpjpe}\")\n",
    "                best_test_mpjpe = test_mpjpe\n",
    "                torch.save(model.state_dict(), parameter_dir)\n",
    "        # scheduler.step()\n",
    "    return"
   ]
  },
  {
   "cell_type": "code",
   "execution_count": 12,
   "metadata": {},
   "outputs": [
    {
     "name": "stderr",
     "output_type": "stream",
     "text": [
      "100%|██████████| 260/260 [00:21<00:00, 12.28it/s]\n"
     ]
    },
    {
     "name": "stdout",
     "output_type": "stream",
     "text": [
      "Epoch: 0, Loss: 0.01149440\n"
     ]
    },
    {
     "name": "stderr",
     "output_type": "stream",
     "text": [
      "100%|██████████| 1040/1040 [00:31<00:00, 32.95it/s]\n"
     ]
    },
    {
     "name": "stdout",
     "output_type": "stream",
     "text": [
      "mse: 0.01669394, mpjpe: 0.17172904, pampjpe: 0.11261334\n",
      "best test mpjpe is:0.17172904292900096\n"
     ]
    },
    {
     "name": "stderr",
     "output_type": "stream",
     "text": [
      "100%|██████████| 260/260 [00:21<00:00, 12.10it/s]\n"
     ]
    },
    {
     "name": "stdout",
     "output_type": "stream",
     "text": [
      "Epoch: 1, Loss: 0.01155529\n"
     ]
    },
    {
     "name": "stderr",
     "output_type": "stream",
     "text": [
      "100%|██████████| 1040/1040 [00:31<00:00, 32.58it/s]\n"
     ]
    },
    {
     "name": "stdout",
     "output_type": "stream",
     "text": [
      "mse: 0.01674056, mpjpe: 0.17302664, pampjpe: 0.11305502\n"
     ]
    },
    {
     "name": "stderr",
     "output_type": "stream",
     "text": [
      "100%|██████████| 260/260 [00:21<00:00, 11.95it/s]\n"
     ]
    },
    {
     "name": "stdout",
     "output_type": "stream",
     "text": [
      "Epoch: 2, Loss: 0.01109856\n"
     ]
    },
    {
     "name": "stderr",
     "output_type": "stream",
     "text": [
      "100%|██████████| 1040/1040 [00:32<00:00, 32.44it/s]\n"
     ]
    },
    {
     "name": "stdout",
     "output_type": "stream",
     "text": [
      "mse: 0.01539020, mpjpe: 0.16336294, pampjpe: 0.10876031\n",
      "best test mpjpe is:0.1633629371027295\n"
     ]
    },
    {
     "name": "stderr",
     "output_type": "stream",
     "text": [
      "100%|██████████| 260/260 [00:21<00:00, 11.93it/s]\n"
     ]
    },
    {
     "name": "stdout",
     "output_type": "stream",
     "text": [
      "Epoch: 3, Loss: 0.01074340\n"
     ]
    },
    {
     "name": "stderr",
     "output_type": "stream",
     "text": [
      "100%|██████████| 1040/1040 [00:31<00:00, 32.52it/s]\n"
     ]
    },
    {
     "name": "stdout",
     "output_type": "stream",
     "text": [
      "mse: 0.02988630, mpjpe: 0.25701308, pampjpe: 0.13339257\n"
     ]
    },
    {
     "name": "stderr",
     "output_type": "stream",
     "text": [
      "100%|██████████| 260/260 [00:21<00:00, 11.94it/s]\n"
     ]
    },
    {
     "name": "stdout",
     "output_type": "stream",
     "text": [
      "Epoch: 4, Loss: 0.01060154\n"
     ]
    },
    {
     "name": "stderr",
     "output_type": "stream",
     "text": [
      "100%|██████████| 1040/1040 [00:32<00:00, 32.44it/s]\n"
     ]
    },
    {
     "name": "stdout",
     "output_type": "stream",
     "text": [
      "mse: 0.02088633, mpjpe: 0.19590867, pampjpe: 0.12371186\n"
     ]
    },
    {
     "name": "stderr",
     "output_type": "stream",
     "text": [
      "100%|██████████| 260/260 [00:21<00:00, 11.93it/s]\n"
     ]
    },
    {
     "name": "stdout",
     "output_type": "stream",
     "text": [
      "Epoch: 5, Loss: 0.01041570\n"
     ]
    },
    {
     "name": "stderr",
     "output_type": "stream",
     "text": [
      "100%|██████████| 1040/1040 [00:32<00:00, 32.37it/s]\n"
     ]
    },
    {
     "name": "stdout",
     "output_type": "stream",
     "text": [
      "mse: 0.01570512, mpjpe: 0.17024595, pampjpe: 0.10678604\n"
     ]
    },
    {
     "name": "stderr",
     "output_type": "stream",
     "text": [
      "100%|██████████| 260/260 [00:21<00:00, 11.96it/s]\n"
     ]
    },
    {
     "name": "stdout",
     "output_type": "stream",
     "text": [
      "Epoch: 6, Loss: 0.00945443\n"
     ]
    },
    {
     "name": "stderr",
     "output_type": "stream",
     "text": [
      "100%|██████████| 1040/1040 [00:32<00:00, 32.38it/s]\n"
     ]
    },
    {
     "name": "stdout",
     "output_type": "stream",
     "text": [
      "mse: 0.02361677, mpjpe: 0.21485383, pampjpe: 0.12871389\n"
     ]
    },
    {
     "name": "stderr",
     "output_type": "stream",
     "text": [
      "100%|██████████| 260/260 [00:21<00:00, 11.93it/s]\n"
     ]
    },
    {
     "name": "stdout",
     "output_type": "stream",
     "text": [
      "Epoch: 7, Loss: 0.00831358\n"
     ]
    },
    {
     "name": "stderr",
     "output_type": "stream",
     "text": [
      "100%|██████████| 1040/1040 [00:32<00:00, 32.33it/s]\n"
     ]
    },
    {
     "name": "stdout",
     "output_type": "stream",
     "text": [
      "mse: 0.01847560, mpjpe: 0.18167649, pampjpe: 0.11773232\n"
     ]
    },
    {
     "name": "stderr",
     "output_type": "stream",
     "text": [
      "100%|██████████| 260/260 [00:21<00:00, 11.96it/s]\n"
     ]
    },
    {
     "name": "stdout",
     "output_type": "stream",
     "text": [
      "Epoch: 8, Loss: 0.00770607\n"
     ]
    },
    {
     "name": "stderr",
     "output_type": "stream",
     "text": [
      "100%|██████████| 1040/1040 [00:32<00:00, 32.45it/s]\n"
     ]
    },
    {
     "name": "stdout",
     "output_type": "stream",
     "text": [
      "mse: 0.02307250, mpjpe: 0.21834164, pampjpe: 0.13154855\n"
     ]
    },
    {
     "name": "stderr",
     "output_type": "stream",
     "text": [
      "100%|██████████| 260/260 [00:21<00:00, 11.89it/s]\n"
     ]
    },
    {
     "name": "stdout",
     "output_type": "stream",
     "text": [
      "Epoch: 9, Loss: 0.00703663\n"
     ]
    },
    {
     "name": "stderr",
     "output_type": "stream",
     "text": [
      "100%|██████████| 1040/1040 [00:32<00:00, 32.50it/s]"
     ]
    },
    {
     "name": "stdout",
     "output_type": "stream",
     "text": [
      "mse: 0.02069483, mpjpe: 0.20096472, pampjpe: 0.12682971\n"
     ]
    },
    {
     "name": "stderr",
     "output_type": "stream",
     "text": [
      "\n"
     ]
    }
   ],
   "source": [
    "train_criterion = nn.MSELoss()\n",
    "test_criterion = error\n",
    "device = torch.device(\"cuda\" if torch.cuda.is_available() else \"cpu\")\n",
    "# model.load_state_dict(torch.load('./pre-train_weights/mmwave_scene(2).pt'))\n",
    "# for param in model.parameters():\n",
    "#     param.requires_grad = True\n",
    "# for param in model.fc4.parameters():\n",
    "#     param.requires_grad = False\n",
    "model.to(device)\n",
    "train(\n",
    "    model=model,\n",
    "    train_loader= train_loader,\n",
    "    test_loader= val_loader,    \n",
    "    num_epochs= 10,\n",
    "    learning_rate=5e-5,\n",
    "    train_criterion = train_criterion,\n",
    "    test_criterion = test_criterion,\n",
    "    device=device \n",
    "        )"
   ]
  }
 ],
 "metadata": {
  "kernelspec": {
   "display_name": "Python 3.9.13 ('pytorch')",
   "language": "python",
   "name": "python3"
  },
  "language_info": {
   "codemirror_mode": {
    "name": "ipython",
    "version": 3
   },
   "file_extension": ".py",
   "mimetype": "text/x-python",
   "name": "python",
   "nbconvert_exporter": "python",
   "pygments_lexer": "ipython3",
   "version": "3.9.15"
  },
  "orig_nbformat": 4,
  "vscode": {
   "interpreter": {
    "hash": "28ddce5f25a21a07ad483909600054997aecc68f738e66d709935411fdfc5bae"
   }
  }
 },
 "nbformat": 4,
 "nbformat_minor": 2
}
